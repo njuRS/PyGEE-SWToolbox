{
 "cells": [
  {
   "cell_type": "code",
   "execution_count": null,
   "id": "406882ec",
   "metadata": {},
   "outputs": [],
   "source": [
    "!pip install google-api-python-client\n",
    "!pip install pycryptodome\n",
    "!pip install earthengine-api"
   ]
  },
  {
   "cell_type": "markdown",
   "id": "white-rough",
   "metadata": {},
   "source": [
    "## Authenticate Google Earth Engine Account"
   ]
  },
  {
   "cell_type": "code",
   "execution_count": 1,
   "id": "parental-hughes",
   "metadata": {},
   "outputs": [],
   "source": [
    "import os\n",
    "os.environ['http_proxy'] = \"http://127.0.0.1:10809\"\n",
    "os.environ['https_proxy'] = \"https://127.0.0.1:10809\"\n",
    "import ee\n",
    "# Initialize the GEE API\n",
    "try:\n",
    "    ee.Initialize()\n",
    "except Exception as e:\n",
    "    ee.Authenticate()\n",
    "    ee.Initialize()\n",
    "import ee"
   ]
  },
  {
   "cell_type": "markdown",
   "id": "frequent-baking",
   "metadata": {},
   "source": [
    "## Toolbox"
   ]
  },
  {
   "cell_type": "code",
   "execution_count": 2,
   "id": "documentary-patch",
   "metadata": {
    "scrolled": false
   },
   "outputs": [
    {
     "data": {
      "application/vnd.jupyter.widget-view+json": {
       "model_id": "4dfe573a2089449e97ff7038ab83dc86",
       "version_major": 2,
       "version_minor": 0
      },
      "text/plain": [
       "VBox(children=(HTML(value=\"<h3 class= 'text-center'><font color = 'blue'>Python-GEE Surface Water Analysis Too…"
      ]
     },
     "metadata": {},
     "output_type": "display_data"
    },
    {
     "data": {
      "application/vnd.jupyter.widget-view+json": {
       "model_id": "29920b9eae0f429a84d5b056a34c0c8b",
       "version_major": 2,
       "version_minor": 0
      },
      "text/plain": [
       "FigureWidget({\n",
       "    'data': [],\n",
       "    'layout': {'font': {'family': 'Arial'},\n",
       "               'template': '...',\n",
       " …"
      ]
     },
     "metadata": {},
     "output_type": "display_data"
    },
    {
     "data": {
      "application/vnd.jupyter.widget-view+json": {
       "model_id": "c4667b0eaf8d47be9225d9beac49255d",
       "version_major": 2,
       "version_minor": 0
      },
      "text/plain": [
       "Output()"
      ]
     },
     "metadata": {},
     "output_type": "display_data"
    },
    {
     "data": {
      "text/plain": [
       "<PyGEE_SWToolbox.Toolbox at 0x1db745c05e0>"
      ]
     },
     "execution_count": 2,
     "metadata": {},
     "output_type": "execute_result"
    }
   ],
   "source": [
    "from PyGEE_SWToolbox import Toolbox\n",
    "\n",
    "Toolbox()"
   ]
  }
 ],
 "metadata": {
  "kernelspec": {
   "display_name": "Python 3.9.5 64-bit",
   "language": "python",
   "name": "python3"
  },
  "language_info": {
   "codemirror_mode": {
    "name": "ipython",
    "version": 3
   },
   "file_extension": ".py",
   "mimetype": "text/x-python",
   "name": "python",
   "nbconvert_exporter": "python",
   "pygments_lexer": "ipython3",
   "version": "3.9.5"
  },
  "vscode": {
   "interpreter": {
    "hash": "4ccd7e311a220574f830daa45bcd29bb6bf53931ba574f546ca748b516ca34f7"
   }
  }
 },
 "nbformat": 4,
 "nbformat_minor": 5
}
